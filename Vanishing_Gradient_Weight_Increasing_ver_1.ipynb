{
  "metadata": {
    "kernelspec": {
      "display_name": "Python 3",
      "name": "python3"
    },
    "language_info": {
      "pygments_lexer": "ipython3",
      "nbconvert_exporter": "python",
      "version": "3.6.4",
      "file_extension": ".py",
      "codemirror_mode": {
        "name": "ipython",
        "version": 3
      },
      "name": "python",
      "mimetype": "text/x-python"
    },
    "kaggle": {
      "accelerator": "nvidiaTeslaT4",
      "dataSources": [],
      "isInternetEnabled": true,
      "language": "python",
      "sourceType": "notebook",
      "isGpuEnabled": true
    },
    "colab": {
      "name": "Vanishing_Gradient_Weight_Increasing_ver_1 ",
      "provenance": [],
      "gpuType": "T4"
    },
    "accelerator": "GPU"
  },
  "nbformat_minor": 0,
  "nbformat": 4,
  "cells": [
    {
      "cell_type": "code",
      "source": [
        "# This Python 3 environment comes with many helpful analytics libraries installed\n",
        "# It is defined by the kaggle/python Docker image: https://github.com/kaggle/docker-python\n",
        "# For example, here's several helpful packages to load\n",
        "\n",
        "import numpy as np # linear algebra\n",
        "import pandas as pd # data processing, CSV file I/O (e.g. pd.read_csv)\n",
        "\n",
        "# Input data files are available in the read-only \"../input/\" directory\n",
        "# For example, running this (by clicking run or pressing Shift+Enter) will list all files under the input directory\n",
        "\n",
        "import os\n",
        "for dirname, _, filenames in os.walk('/kaggle/input'):\n",
        "    for filename in filenames:\n",
        "        print(os.path.join(dirname, filename))\n",
        "\n",
        "# You can write up to 20GB to the current directory (/kaggle/working/) that gets preserved as output when you create a version using \"Save & Run All\"\n",
        "# You can also write temporary files to /kaggle/temp/, but they won't be saved outside of the current session"
      ],
      "metadata": {
        "_uuid": "8f2839f25d086af736a60e9eeb907d3b93b6e0e5",
        "_cell_guid": "b1076dfc-b9ad-4769-8c92-a6c4dae69d19",
        "trusted": true,
        "id": "2tcqqHL3-nSe"
      },
      "outputs": [],
      "execution_count": 1
    },
    {
      "cell_type": "code",
      "source": [
        "import random\n",
        "import matplotlib.pyplot as plt\n",
        "import numpy as np\n",
        "import torch\n",
        "import torch.optim as optim\n",
        "import torchvision\n",
        "import torchvision.transforms as transforms\n",
        "from torch import nn\n",
        "from torch.utils.data import Dataset, DataLoader, random_split\n",
        "from torchvision.datasets import FashionMNIST\n",
        "import os\n",
        "device = torch.device('cuda:0' if torch.cuda.is_available() else 'cpu')"
      ],
      "metadata": {
        "trusted": true,
        "id": "DalQIhJu-nSf"
      },
      "outputs": [],
      "execution_count": 2
    },
    {
      "cell_type": "code",
      "source": [
        "def set_seed(seed):\n",
        "    random.seed(seed)\n",
        "    np.random.seed(seed)\n",
        "    torch.manual_seed(seed)\n",
        "    torch.cuda.manual_seed(seed)\n",
        "    torch.cuda.manual_seed_all(seed)\n",
        "    torch.backends.cudnn.deterministic = True\n",
        "    torch.backends.cudnn.benchmark = False\n",
        "\n",
        "SEED = 42\n",
        "set_seed(SEED)"
      ],
      "metadata": {
        "trusted": true,
        "id": "Bzlfod7f-nSf"
      },
      "outputs": [],
      "execution_count": 3
    },
    {
      "cell_type": "code",
      "source": [
        "root_dir = '/kaggle/working/'\n",
        "train_dataset = FashionMNIST(os.path.join(root_dir, './data'), train= True, download = True, transform = transforms.ToTensor())\n",
        "test_dataset = FashionMNIST(os.path.join(root_dir, './data'), train= False, download = True, transform = transforms.ToTensor())"
      ],
      "metadata": {
        "trusted": true,
        "id": "ddHOwkq5-nSg",
        "outputId": "95201c4c-bba5-4c2b-94dd-75497da120d7",
        "colab": {
          "base_uri": "https://localhost:8080/"
        }
      },
      "outputs": [
        {
          "output_type": "stream",
          "name": "stdout",
          "text": [
            "Downloading http://fashion-mnist.s3-website.eu-central-1.amazonaws.com/train-images-idx3-ubyte.gz\n",
            "Downloading http://fashion-mnist.s3-website.eu-central-1.amazonaws.com/train-images-idx3-ubyte.gz to /kaggle/working/./data/FashionMNIST/raw/train-images-idx3-ubyte.gz\n"
          ]
        },
        {
          "output_type": "stream",
          "name": "stderr",
          "text": [
            "100%|██████████| 26.4M/26.4M [00:01<00:00, 14.0MB/s]\n"
          ]
        },
        {
          "output_type": "stream",
          "name": "stdout",
          "text": [
            "Extracting /kaggle/working/./data/FashionMNIST/raw/train-images-idx3-ubyte.gz to /kaggle/working/./data/FashionMNIST/raw\n",
            "\n",
            "Downloading http://fashion-mnist.s3-website.eu-central-1.amazonaws.com/train-labels-idx1-ubyte.gz\n",
            "Downloading http://fashion-mnist.s3-website.eu-central-1.amazonaws.com/train-labels-idx1-ubyte.gz to /kaggle/working/./data/FashionMNIST/raw/train-labels-idx1-ubyte.gz\n"
          ]
        },
        {
          "output_type": "stream",
          "name": "stderr",
          "text": [
            "100%|██████████| 29.5k/29.5k [00:00<00:00, 209kB/s]\n"
          ]
        },
        {
          "output_type": "stream",
          "name": "stdout",
          "text": [
            "Extracting /kaggle/working/./data/FashionMNIST/raw/train-labels-idx1-ubyte.gz to /kaggle/working/./data/FashionMNIST/raw\n",
            "\n",
            "Downloading http://fashion-mnist.s3-website.eu-central-1.amazonaws.com/t10k-images-idx3-ubyte.gz\n",
            "Downloading http://fashion-mnist.s3-website.eu-central-1.amazonaws.com/t10k-images-idx3-ubyte.gz to /kaggle/working/./data/FashionMNIST/raw/t10k-images-idx3-ubyte.gz\n"
          ]
        },
        {
          "output_type": "stream",
          "name": "stderr",
          "text": [
            "100%|██████████| 4.42M/4.42M [00:01<00:00, 3.94MB/s]\n"
          ]
        },
        {
          "output_type": "stream",
          "name": "stdout",
          "text": [
            "Extracting /kaggle/working/./data/FashionMNIST/raw/t10k-images-idx3-ubyte.gz to /kaggle/working/./data/FashionMNIST/raw\n",
            "\n",
            "Downloading http://fashion-mnist.s3-website.eu-central-1.amazonaws.com/t10k-labels-idx1-ubyte.gz\n",
            "Downloading http://fashion-mnist.s3-website.eu-central-1.amazonaws.com/t10k-labels-idx1-ubyte.gz to /kaggle/working/./data/FashionMNIST/raw/t10k-labels-idx1-ubyte.gz\n"
          ]
        },
        {
          "output_type": "stream",
          "name": "stderr",
          "text": [
            "100%|██████████| 5.15k/5.15k [00:00<00:00, 15.8MB/s]"
          ]
        },
        {
          "output_type": "stream",
          "name": "stdout",
          "text": [
            "Extracting /kaggle/working/./data/FashionMNIST/raw/t10k-labels-idx1-ubyte.gz to /kaggle/working/./data/FashionMNIST/raw\n",
            "\n"
          ]
        },
        {
          "output_type": "stream",
          "name": "stderr",
          "text": [
            "\n"
          ]
        }
      ],
      "execution_count": 4
    },
    {
      "cell_type": "code",
      "source": [
        "batch_size = 512\n",
        "train_ratio = 0.9\n",
        "\n",
        "train_size = int(len(train_dataset) * 0.9)\n",
        "val_size = len(train_dataset) - train_size\n",
        "\n",
        "train_subset, val_subset = random_split(train_dataset,[train_size, val_size])\n",
        "\n",
        "train_loader = DataLoader(train_subset, batch_size = batch_size, shuffle=True)\n",
        "val_loader = DataLoader(val_subset, batch_size = batch_size, shuffle=False)\n",
        "test_loader = DataLoader(test_dataset, batch_size = batch_size, shuffle=False)\n",
        "\n",
        "print(f\"Train size: {len(train_subset)}\")\n",
        "print(f\"Validation size: {len(val_subset)}\")\n",
        "print(f\"Test size: {len(test_dataset)}\")"
      ],
      "metadata": {
        "trusted": true,
        "id": "Kxd8vl_V-nSg",
        "outputId": "5812e204-fb4f-4c48-dc9d-da2fc5ed6a45",
        "colab": {
          "base_uri": "https://localhost:8080/"
        }
      },
      "outputs": [
        {
          "output_type": "stream",
          "name": "stdout",
          "text": [
            "Train size: 54000\n",
            "Validation size: 6000\n",
            "Test size: 10000\n"
          ]
        }
      ],
      "execution_count": 5
    },
    {
      "cell_type": "code",
      "source": [
        "class MLP(nn.Module):\n",
        "    def __init__(self, input_dims, hidden_dims, output_dims):\n",
        "        super(MLP, self).__init__()\n",
        "        self.layer1 = nn.Linear(input_dims, hidden_dims)\n",
        "        self.layer2 = nn.Linear(hidden_dims, hidden_dims)\n",
        "        self.layer3 = nn.Linear(hidden_dims, hidden_dims)\n",
        "        self.layer4 = nn.Linear(hidden_dims, hidden_dims)\n",
        "        self.layer5 = nn.Linear(hidden_dims, hidden_dims)\n",
        "        self.layer6 = nn.Linear(hidden_dims, hidden_dims)\n",
        "        self.layer7 = nn.Linear(hidden_dims, hidden_dims)\n",
        "        self.output = nn.Linear(hidden_dims, output_dims)\n",
        "\n",
        "        for module in self.modules():\n",
        "            if isinstance(module, nn.Linear):\n",
        "                nn.init.normal_(module.weight, mean=0.0, std =1.0)\n",
        "                nn.init.constant_(module.bias, 0)\n",
        "\n",
        "    def forward(self, x):\n",
        "        x = nn.Flatten()(x)\n",
        "        x = self.layer1(x)\n",
        "        x = nn.Sigmoid()(x)\n",
        "        x = self.layer2(x)\n",
        "        x = nn.Sigmoid()(x)\n",
        "        x = self.layer3(x)\n",
        "        x = nn.Sigmoid()(x)\n",
        "        x = self.layer4(x)\n",
        "        x = nn.Sigmoid()(x)\n",
        "        x = self.layer5(x)\n",
        "        x = nn.Sigmoid()(x)\n",
        "        x = self.layer6(x)\n",
        "        x = nn.Sigmoid()(x)\n",
        "        x = self.layer7(x)\n",
        "        x = nn.Sigmoid()(x)\n",
        "        out = self.output(x)\n",
        "        return out\n",
        "\n",
        "def compute_accuracy(preds, labels):\n",
        "    acc = (torch.argmax(preds, dim = 1) == labels).sum()\n",
        "    return acc"
      ],
      "metadata": {
        "trusted": true,
        "id": "Z_GotUh6-nSg"
      },
      "outputs": [],
      "execution_count": 8
    },
    {
      "cell_type": "code",
      "source": [
        "input_dims = 784\n",
        "hidden_dims = 128\n",
        "output_dims = 10\n",
        "lr = 1e-2\n",
        "\n",
        "model = MLP(input_dims=input_dims, hidden_dims=hidden_dims, output_dims=output_dims).to(device)\n",
        "criterion = nn.CrossEntropyLoss()\n",
        "optimizer = optim.SGD(model.parameters(), lr=lr)"
      ],
      "metadata": {
        "trusted": true,
        "id": "Na812cyU-nSh"
      },
      "outputs": [],
      "execution_count": 9
    },
    {
      "cell_type": "code",
      "source": [
        "epochs = 100\n",
        "train_loss_lst = []\n",
        "train_acc_lst = []\n",
        "val_loss_lst = []\n",
        "val_acc_lst = []\n",
        "\n",
        "for epoch in range(epochs):\n",
        "    train_loss = 0.0\n",
        "    train_acc = 0.0\n",
        "    count = 0\n",
        "    model.train()\n",
        "    for X_train, y_train in train_loader:\n",
        "        X_train, y_train = X_train.to(device), y_train.to(device)\n",
        "\n",
        "        optimizer.zero_grad()\n",
        "        preds = model.forward(X_train)\n",
        "        loss = criterion(preds, y_train)\n",
        "        loss.backward()\n",
        "        optimizer.step()\n",
        "        train_loss += loss\n",
        "        train_acc += compute_accuracy(preds, y_train)\n",
        "        count += len(y_train)\n",
        "\n",
        "    train_loss /= len(train_loader)\n",
        "    train_loss_lst.append(train_loss.detach().cpu().numpy())\n",
        "    train_acc /= count\n",
        "    train_acc_lst.append(train_acc.detach().cpu().numpy())\n",
        "\n",
        "\n",
        "\n",
        "    val_loss = 0.0\n",
        "    val_acc = 0.0\n",
        "    count = 0\n",
        "    model.eval()\n",
        "    with torch.no_grad():\n",
        "        for X_val, y_val in val_loader:\n",
        "            X_val, y_val = X_val.to(device), y_val.to(device)\n",
        "            preds = model.forward(X_val)\n",
        "            loss = criterion(preds, y_val)\n",
        "            val_loss += loss\n",
        "            val_acc += compute_accuracy(preds, y_val)\n",
        "            count += len(y_val)\n",
        "\n",
        "    val_loss /= len(test_loader)\n",
        "    val_loss_lst.append(val_loss.detach().cpu().numpy())\n",
        "    val_acc /= count\n",
        "    val_acc_lst.append(val_acc.detach().cpu().numpy())\n",
        "\n",
        "    print(f\"EPOCH {epoch + 1}/{epochs}, Train_Loss: {train_loss:.4f}, Train_Acc: {train_acc:.4f}, Validation Loss: {val_loss:.4f}, Val_Acc: {val_acc:.4f}\")"
      ],
      "metadata": {
        "trusted": true,
        "id": "51bYCwFW-nSh",
        "outputId": "c1cac1a7-9b03-4bd3-f80c-b0cb23345e83",
        "colab": {
          "base_uri": "https://localhost:8080/"
        }
      },
      "outputs": [
        {
          "output_type": "stream",
          "name": "stdout",
          "text": [
            "EPOCH 1/100, Train_Loss: 4.1082, Train_Acc: 0.1834, Validation Loss: 1.3233, Val_Acc: 0.2307\n",
            "EPOCH 2/100, Train_Loss: 2.0284, Train_Acc: 0.2856, Validation Loss: 1.1436, Val_Acc: 0.3317\n",
            "EPOCH 3/100, Train_Loss: 1.7839, Train_Acc: 0.3702, Validation Loss: 1.0232, Val_Acc: 0.3933\n",
            "EPOCH 4/100, Train_Loss: 1.6172, Train_Acc: 0.4251, Validation Loss: 0.9416, Val_Acc: 0.4423\n",
            "EPOCH 5/100, Train_Loss: 1.5005, Train_Acc: 0.4642, Validation Loss: 0.8810, Val_Acc: 0.4765\n",
            "EPOCH 6/100, Train_Loss: 1.4126, Train_Acc: 0.4928, Validation Loss: 0.8357, Val_Acc: 0.5013\n",
            "EPOCH 7/100, Train_Loss: 1.3454, Train_Acc: 0.5169, Validation Loss: 0.7984, Val_Acc: 0.5225\n",
            "EPOCH 8/100, Train_Loss: 1.2895, Train_Acc: 0.5355, Validation Loss: 0.7687, Val_Acc: 0.5427\n",
            "EPOCH 9/100, Train_Loss: 1.2430, Train_Acc: 0.5530, Validation Loss: 0.7436, Val_Acc: 0.5587\n",
            "EPOCH 10/100, Train_Loss: 1.2037, Train_Acc: 0.5673, Validation Loss: 0.7210, Val_Acc: 0.5723\n",
            "EPOCH 11/100, Train_Loss: 1.1693, Train_Acc: 0.5802, Validation Loss: 0.7021, Val_Acc: 0.5838\n",
            "EPOCH 12/100, Train_Loss: 1.1389, Train_Acc: 0.5914, Validation Loss: 0.6849, Val_Acc: 0.5918\n",
            "EPOCH 13/100, Train_Loss: 1.1133, Train_Acc: 0.5995, Validation Loss: 0.6706, Val_Acc: 0.5968\n",
            "EPOCH 14/100, Train_Loss: 1.0892, Train_Acc: 0.6076, Validation Loss: 0.6572, Val_Acc: 0.6073\n",
            "EPOCH 15/100, Train_Loss: 1.0682, Train_Acc: 0.6145, Validation Loss: 0.6454, Val_Acc: 0.6122\n",
            "EPOCH 16/100, Train_Loss: 1.0491, Train_Acc: 0.6214, Validation Loss: 0.6344, Val_Acc: 0.6173\n",
            "EPOCH 17/100, Train_Loss: 1.0306, Train_Acc: 0.6270, Validation Loss: 0.6237, Val_Acc: 0.6225\n",
            "EPOCH 18/100, Train_Loss: 1.0143, Train_Acc: 0.6329, Validation Loss: 0.6147, Val_Acc: 0.6277\n",
            "EPOCH 19/100, Train_Loss: 0.9991, Train_Acc: 0.6376, Validation Loss: 0.6065, Val_Acc: 0.6325\n",
            "EPOCH 20/100, Train_Loss: 0.9854, Train_Acc: 0.6427, Validation Loss: 0.5976, Val_Acc: 0.6373\n",
            "EPOCH 21/100, Train_Loss: 0.9719, Train_Acc: 0.6462, Validation Loss: 0.5908, Val_Acc: 0.6413\n",
            "EPOCH 22/100, Train_Loss: 0.9592, Train_Acc: 0.6507, Validation Loss: 0.5840, Val_Acc: 0.6443\n",
            "EPOCH 23/100, Train_Loss: 0.9476, Train_Acc: 0.6541, Validation Loss: 0.5773, Val_Acc: 0.6468\n",
            "EPOCH 24/100, Train_Loss: 0.9367, Train_Acc: 0.6578, Validation Loss: 0.5706, Val_Acc: 0.6502\n",
            "EPOCH 25/100, Train_Loss: 0.9260, Train_Acc: 0.6616, Validation Loss: 0.5653, Val_Acc: 0.6543\n",
            "EPOCH 26/100, Train_Loss: 0.9174, Train_Acc: 0.6650, Validation Loss: 0.5600, Val_Acc: 0.6583\n",
            "EPOCH 27/100, Train_Loss: 0.9076, Train_Acc: 0.6679, Validation Loss: 0.5548, Val_Acc: 0.6637\n",
            "EPOCH 28/100, Train_Loss: 0.8988, Train_Acc: 0.6708, Validation Loss: 0.5504, Val_Acc: 0.6633\n",
            "EPOCH 29/100, Train_Loss: 0.8913, Train_Acc: 0.6732, Validation Loss: 0.5456, Val_Acc: 0.6663\n",
            "EPOCH 30/100, Train_Loss: 0.8826, Train_Acc: 0.6760, Validation Loss: 0.5414, Val_Acc: 0.6690\n",
            "EPOCH 31/100, Train_Loss: 0.8760, Train_Acc: 0.6787, Validation Loss: 0.5374, Val_Acc: 0.6717\n",
            "EPOCH 32/100, Train_Loss: 0.8694, Train_Acc: 0.6806, Validation Loss: 0.5341, Val_Acc: 0.6760\n",
            "EPOCH 33/100, Train_Loss: 0.8627, Train_Acc: 0.6829, Validation Loss: 0.5303, Val_Acc: 0.6757\n",
            "EPOCH 34/100, Train_Loss: 0.8563, Train_Acc: 0.6857, Validation Loss: 0.5262, Val_Acc: 0.6812\n",
            "EPOCH 35/100, Train_Loss: 0.8497, Train_Acc: 0.6875, Validation Loss: 0.5233, Val_Acc: 0.6802\n",
            "EPOCH 36/100, Train_Loss: 0.8440, Train_Acc: 0.6895, Validation Loss: 0.5199, Val_Acc: 0.6842\n",
            "EPOCH 37/100, Train_Loss: 0.8386, Train_Acc: 0.6918, Validation Loss: 0.5171, Val_Acc: 0.6860\n",
            "EPOCH 38/100, Train_Loss: 0.8335, Train_Acc: 0.6929, Validation Loss: 0.5141, Val_Acc: 0.6878\n",
            "EPOCH 39/100, Train_Loss: 0.8285, Train_Acc: 0.6946, Validation Loss: 0.5111, Val_Acc: 0.6895\n",
            "EPOCH 40/100, Train_Loss: 0.8233, Train_Acc: 0.6968, Validation Loss: 0.5082, Val_Acc: 0.6900\n",
            "EPOCH 41/100, Train_Loss: 0.8185, Train_Acc: 0.6986, Validation Loss: 0.5055, Val_Acc: 0.6928\n",
            "EPOCH 42/100, Train_Loss: 0.8142, Train_Acc: 0.6996, Validation Loss: 0.5038, Val_Acc: 0.6923\n",
            "EPOCH 43/100, Train_Loss: 0.8097, Train_Acc: 0.7012, Validation Loss: 0.5017, Val_Acc: 0.6940\n",
            "EPOCH 44/100, Train_Loss: 0.8061, Train_Acc: 0.7034, Validation Loss: 0.4985, Val_Acc: 0.6972\n",
            "EPOCH 45/100, Train_Loss: 0.8017, Train_Acc: 0.7039, Validation Loss: 0.4959, Val_Acc: 0.6982\n",
            "EPOCH 46/100, Train_Loss: 0.7975, Train_Acc: 0.7060, Validation Loss: 0.4941, Val_Acc: 0.7005\n",
            "EPOCH 47/100, Train_Loss: 0.7930, Train_Acc: 0.7071, Validation Loss: 0.4921, Val_Acc: 0.6988\n",
            "EPOCH 48/100, Train_Loss: 0.7902, Train_Acc: 0.7081, Validation Loss: 0.4903, Val_Acc: 0.7000\n",
            "EPOCH 49/100, Train_Loss: 0.7858, Train_Acc: 0.7091, Validation Loss: 0.4880, Val_Acc: 0.7013\n",
            "EPOCH 50/100, Train_Loss: 0.7823, Train_Acc: 0.7106, Validation Loss: 0.4864, Val_Acc: 0.7033\n",
            "EPOCH 51/100, Train_Loss: 0.7792, Train_Acc: 0.7112, Validation Loss: 0.4844, Val_Acc: 0.7043\n",
            "EPOCH 52/100, Train_Loss: 0.7753, Train_Acc: 0.7123, Validation Loss: 0.4828, Val_Acc: 0.7047\n",
            "EPOCH 53/100, Train_Loss: 0.7724, Train_Acc: 0.7143, Validation Loss: 0.4805, Val_Acc: 0.7055\n",
            "EPOCH 54/100, Train_Loss: 0.7686, Train_Acc: 0.7153, Validation Loss: 0.4793, Val_Acc: 0.7055\n",
            "EPOCH 55/100, Train_Loss: 0.7658, Train_Acc: 0.7167, Validation Loss: 0.4779, Val_Acc: 0.7088\n",
            "EPOCH 56/100, Train_Loss: 0.7623, Train_Acc: 0.7177, Validation Loss: 0.4766, Val_Acc: 0.7085\n",
            "EPOCH 57/100, Train_Loss: 0.7596, Train_Acc: 0.7185, Validation Loss: 0.4743, Val_Acc: 0.7103\n",
            "EPOCH 58/100, Train_Loss: 0.7567, Train_Acc: 0.7195, Validation Loss: 0.4731, Val_Acc: 0.7097\n",
            "EPOCH 59/100, Train_Loss: 0.7539, Train_Acc: 0.7204, Validation Loss: 0.4724, Val_Acc: 0.7097\n",
            "EPOCH 60/100, Train_Loss: 0.7514, Train_Acc: 0.7212, Validation Loss: 0.4702, Val_Acc: 0.7113\n",
            "EPOCH 61/100, Train_Loss: 0.7478, Train_Acc: 0.7229, Validation Loss: 0.4686, Val_Acc: 0.7130\n",
            "EPOCH 62/100, Train_Loss: 0.7453, Train_Acc: 0.7237, Validation Loss: 0.4674, Val_Acc: 0.7133\n",
            "EPOCH 63/100, Train_Loss: 0.7428, Train_Acc: 0.7250, Validation Loss: 0.4666, Val_Acc: 0.7138\n",
            "EPOCH 64/100, Train_Loss: 0.7396, Train_Acc: 0.7250, Validation Loss: 0.4650, Val_Acc: 0.7157\n",
            "EPOCH 65/100, Train_Loss: 0.7368, Train_Acc: 0.7275, Validation Loss: 0.4636, Val_Acc: 0.7153\n",
            "EPOCH 66/100, Train_Loss: 0.7353, Train_Acc: 0.7282, Validation Loss: 0.4625, Val_Acc: 0.7152\n",
            "EPOCH 67/100, Train_Loss: 0.7322, Train_Acc: 0.7284, Validation Loss: 0.4604, Val_Acc: 0.7172\n",
            "EPOCH 68/100, Train_Loss: 0.7301, Train_Acc: 0.7296, Validation Loss: 0.4598, Val_Acc: 0.7175\n",
            "EPOCH 69/100, Train_Loss: 0.7280, Train_Acc: 0.7302, Validation Loss: 0.4587, Val_Acc: 0.7162\n",
            "EPOCH 70/100, Train_Loss: 0.7253, Train_Acc: 0.7313, Validation Loss: 0.4574, Val_Acc: 0.7212\n",
            "EPOCH 71/100, Train_Loss: 0.7237, Train_Acc: 0.7323, Validation Loss: 0.4566, Val_Acc: 0.7215\n",
            "EPOCH 72/100, Train_Loss: 0.7209, Train_Acc: 0.7327, Validation Loss: 0.4549, Val_Acc: 0.7197\n",
            "EPOCH 73/100, Train_Loss: 0.7187, Train_Acc: 0.7333, Validation Loss: 0.4539, Val_Acc: 0.7207\n",
            "EPOCH 74/100, Train_Loss: 0.7170, Train_Acc: 0.7348, Validation Loss: 0.4524, Val_Acc: 0.7207\n",
            "EPOCH 75/100, Train_Loss: 0.7154, Train_Acc: 0.7348, Validation Loss: 0.4517, Val_Acc: 0.7217\n",
            "EPOCH 76/100, Train_Loss: 0.7127, Train_Acc: 0.7360, Validation Loss: 0.4500, Val_Acc: 0.7230\n",
            "EPOCH 77/100, Train_Loss: 0.7101, Train_Acc: 0.7372, Validation Loss: 0.4494, Val_Acc: 0.7233\n",
            "EPOCH 78/100, Train_Loss: 0.7081, Train_Acc: 0.7377, Validation Loss: 0.4490, Val_Acc: 0.7228\n",
            "EPOCH 79/100, Train_Loss: 0.7065, Train_Acc: 0.7387, Validation Loss: 0.4473, Val_Acc: 0.7243\n",
            "EPOCH 80/100, Train_Loss: 0.7048, Train_Acc: 0.7393, Validation Loss: 0.4470, Val_Acc: 0.7253\n",
            "EPOCH 81/100, Train_Loss: 0.7030, Train_Acc: 0.7405, Validation Loss: 0.4461, Val_Acc: 0.7265\n",
            "EPOCH 82/100, Train_Loss: 0.7007, Train_Acc: 0.7407, Validation Loss: 0.4449, Val_Acc: 0.7265\n",
            "EPOCH 83/100, Train_Loss: 0.6989, Train_Acc: 0.7418, Validation Loss: 0.4438, Val_Acc: 0.7265\n",
            "EPOCH 84/100, Train_Loss: 0.6972, Train_Acc: 0.7423, Validation Loss: 0.4429, Val_Acc: 0.7268\n",
            "EPOCH 85/100, Train_Loss: 0.6953, Train_Acc: 0.7426, Validation Loss: 0.4418, Val_Acc: 0.7290\n",
            "EPOCH 86/100, Train_Loss: 0.6937, Train_Acc: 0.7439, Validation Loss: 0.4414, Val_Acc: 0.7280\n",
            "EPOCH 87/100, Train_Loss: 0.6917, Train_Acc: 0.7438, Validation Loss: 0.4398, Val_Acc: 0.7290\n",
            "EPOCH 88/100, Train_Loss: 0.6904, Train_Acc: 0.7449, Validation Loss: 0.4392, Val_Acc: 0.7295\n",
            "EPOCH 89/100, Train_Loss: 0.6883, Train_Acc: 0.7457, Validation Loss: 0.4385, Val_Acc: 0.7313\n",
            "EPOCH 90/100, Train_Loss: 0.6871, Train_Acc: 0.7469, Validation Loss: 0.4379, Val_Acc: 0.7332\n",
            "EPOCH 91/100, Train_Loss: 0.6857, Train_Acc: 0.7467, Validation Loss: 0.4368, Val_Acc: 0.7318\n",
            "EPOCH 92/100, Train_Loss: 0.6837, Train_Acc: 0.7475, Validation Loss: 0.4365, Val_Acc: 0.7327\n",
            "EPOCH 93/100, Train_Loss: 0.6823, Train_Acc: 0.7478, Validation Loss: 0.4352, Val_Acc: 0.7330\n",
            "EPOCH 94/100, Train_Loss: 0.6809, Train_Acc: 0.7491, Validation Loss: 0.4347, Val_Acc: 0.7320\n",
            "EPOCH 95/100, Train_Loss: 0.6798, Train_Acc: 0.7486, Validation Loss: 0.4336, Val_Acc: 0.7343\n",
            "EPOCH 96/100, Train_Loss: 0.6779, Train_Acc: 0.7498, Validation Loss: 0.4332, Val_Acc: 0.7343\n",
            "EPOCH 97/100, Train_Loss: 0.6760, Train_Acc: 0.7503, Validation Loss: 0.4323, Val_Acc: 0.7348\n",
            "EPOCH 98/100, Train_Loss: 0.6751, Train_Acc: 0.7510, Validation Loss: 0.4321, Val_Acc: 0.7365\n",
            "EPOCH 99/100, Train_Loss: 0.6734, Train_Acc: 0.7516, Validation Loss: 0.4329, Val_Acc: 0.7362\n",
            "EPOCH 100/100, Train_Loss: 0.6715, Train_Acc: 0.7517, Validation Loss: 0.4302, Val_Acc: 0.7373\n"
          ]
        }
      ],
      "execution_count": 10
    },
    {
      "cell_type": "code",
      "source": [
        "fig, ax = plt.subplots(2, 2, figsize=(12, 10))\n",
        "ax[0, 0].plot(train_loss_lst, color='green')\n",
        "ax[0, 0].set(xlabel='Epoch', ylabel='Loss')\n",
        "ax[0, 0].set_title('Training Loss')\n",
        "\n",
        "ax[0, 1].plot(val_loss_lst, color='orange')\n",
        "ax[0, 1].set(xlabel='Epoch', ylabel='Loss')\n",
        "ax[0, 1].set_title('Validation Loss')\n",
        "\n",
        "ax[1, 0].plot(train_acc_lst, color='green')\n",
        "ax[1, 0].set(xlabel='Epoch', ylabel='Accuracy')\n",
        "ax[1, 0].set_title('Training Accuracy')\n",
        "\n",
        "ax[1, 1].plot(val_acc_lst, color='orange')\n",
        "ax[1, 1].set(xlabel='Epoch', ylabel='Accuracy')\n",
        "ax[1, 1].set_title('Validation Accuracy')\n",
        "\n",
        "plt.show()"
      ],
      "metadata": {
        "trusted": true,
        "id": "8-cSmH7M-nSh",
        "outputId": "3d86773c-1fc0-457d-9310-78115a805966",
        "colab": {
          "base_uri": "https://localhost:8080/",
          "height": 1000
        }
      },
      "outputs": [
        {
          "output_type": "error",
          "ename": "TypeError",
          "evalue": "can't convert cuda:0 device type tensor to numpy. Use Tensor.cpu() to copy the tensor to host memory first.",
          "traceback": [
            "\u001b[0;31m---------------------------------------------------------------------------\u001b[0m",
            "\u001b[0;31mTypeError\u001b[0m                                 Traceback (most recent call last)",
            "\u001b[0;32m<ipython-input-11-075b201615b4>\u001b[0m in \u001b[0;36m<cell line: 2>\u001b[0;34m()\u001b[0m\n\u001b[1;32m      1\u001b[0m \u001b[0mfig\u001b[0m\u001b[0;34m,\u001b[0m \u001b[0max\u001b[0m \u001b[0;34m=\u001b[0m \u001b[0mplt\u001b[0m\u001b[0;34m.\u001b[0m\u001b[0msubplots\u001b[0m\u001b[0;34m(\u001b[0m\u001b[0;36m2\u001b[0m\u001b[0;34m,\u001b[0m \u001b[0;36m2\u001b[0m\u001b[0;34m,\u001b[0m \u001b[0mfigsize\u001b[0m\u001b[0;34m=\u001b[0m\u001b[0;34m(\u001b[0m\u001b[0;36m12\u001b[0m\u001b[0;34m,\u001b[0m \u001b[0;36m10\u001b[0m\u001b[0;34m)\u001b[0m\u001b[0;34m)\u001b[0m\u001b[0;34m\u001b[0m\u001b[0;34m\u001b[0m\u001b[0m\n\u001b[0;32m----> 2\u001b[0;31m \u001b[0max\u001b[0m\u001b[0;34m[\u001b[0m\u001b[0;36m0\u001b[0m\u001b[0;34m,\u001b[0m \u001b[0;36m0\u001b[0m\u001b[0;34m]\u001b[0m\u001b[0;34m.\u001b[0m\u001b[0mplot\u001b[0m\u001b[0;34m(\u001b[0m\u001b[0mtrain_loss_lst\u001b[0m\u001b[0;34m,\u001b[0m \u001b[0mcolor\u001b[0m\u001b[0;34m=\u001b[0m\u001b[0;34m'green'\u001b[0m\u001b[0;34m)\u001b[0m\u001b[0;34m\u001b[0m\u001b[0;34m\u001b[0m\u001b[0m\n\u001b[0m\u001b[1;32m      3\u001b[0m \u001b[0max\u001b[0m\u001b[0;34m[\u001b[0m\u001b[0;36m0\u001b[0m\u001b[0;34m,\u001b[0m \u001b[0;36m0\u001b[0m\u001b[0;34m]\u001b[0m\u001b[0;34m.\u001b[0m\u001b[0mset\u001b[0m\u001b[0;34m(\u001b[0m\u001b[0mxlabel\u001b[0m\u001b[0;34m=\u001b[0m\u001b[0;34m'Epoch'\u001b[0m\u001b[0;34m,\u001b[0m \u001b[0mylabel\u001b[0m\u001b[0;34m=\u001b[0m\u001b[0;34m'Loss'\u001b[0m\u001b[0;34m)\u001b[0m\u001b[0;34m\u001b[0m\u001b[0;34m\u001b[0m\u001b[0m\n\u001b[1;32m      4\u001b[0m \u001b[0max\u001b[0m\u001b[0;34m[\u001b[0m\u001b[0;36m0\u001b[0m\u001b[0;34m,\u001b[0m \u001b[0;36m0\u001b[0m\u001b[0;34m]\u001b[0m\u001b[0;34m.\u001b[0m\u001b[0mset_title\u001b[0m\u001b[0;34m(\u001b[0m\u001b[0;34m'Training Loss'\u001b[0m\u001b[0;34m)\u001b[0m\u001b[0;34m\u001b[0m\u001b[0;34m\u001b[0m\u001b[0m\n\u001b[1;32m      5\u001b[0m \u001b[0;34m\u001b[0m\u001b[0m\n",
            "\u001b[0;32m/usr/local/lib/python3.10/dist-packages/matplotlib/axes/_axes.py\u001b[0m in \u001b[0;36mplot\u001b[0;34m(self, scalex, scaley, data, *args, **kwargs)\u001b[0m\n\u001b[1;32m   1719\u001b[0m         \"\"\"\n\u001b[1;32m   1720\u001b[0m         \u001b[0mkwargs\u001b[0m \u001b[0;34m=\u001b[0m \u001b[0mcbook\u001b[0m\u001b[0;34m.\u001b[0m\u001b[0mnormalize_kwargs\u001b[0m\u001b[0;34m(\u001b[0m\u001b[0mkwargs\u001b[0m\u001b[0;34m,\u001b[0m \u001b[0mmlines\u001b[0m\u001b[0;34m.\u001b[0m\u001b[0mLine2D\u001b[0m\u001b[0;34m)\u001b[0m\u001b[0;34m\u001b[0m\u001b[0;34m\u001b[0m\u001b[0m\n\u001b[0;32m-> 1721\u001b[0;31m         \u001b[0mlines\u001b[0m \u001b[0;34m=\u001b[0m \u001b[0;34m[\u001b[0m\u001b[0;34m*\u001b[0m\u001b[0mself\u001b[0m\u001b[0;34m.\u001b[0m\u001b[0m_get_lines\u001b[0m\u001b[0;34m(\u001b[0m\u001b[0mself\u001b[0m\u001b[0;34m,\u001b[0m \u001b[0;34m*\u001b[0m\u001b[0margs\u001b[0m\u001b[0;34m,\u001b[0m \u001b[0mdata\u001b[0m\u001b[0;34m=\u001b[0m\u001b[0mdata\u001b[0m\u001b[0;34m,\u001b[0m \u001b[0;34m**\u001b[0m\u001b[0mkwargs\u001b[0m\u001b[0;34m)\u001b[0m\u001b[0;34m]\u001b[0m\u001b[0;34m\u001b[0m\u001b[0;34m\u001b[0m\u001b[0m\n\u001b[0m\u001b[1;32m   1722\u001b[0m         \u001b[0;32mfor\u001b[0m \u001b[0mline\u001b[0m \u001b[0;32min\u001b[0m \u001b[0mlines\u001b[0m\u001b[0;34m:\u001b[0m\u001b[0;34m\u001b[0m\u001b[0;34m\u001b[0m\u001b[0m\n\u001b[1;32m   1723\u001b[0m             \u001b[0mself\u001b[0m\u001b[0;34m.\u001b[0m\u001b[0madd_line\u001b[0m\u001b[0;34m(\u001b[0m\u001b[0mline\u001b[0m\u001b[0;34m)\u001b[0m\u001b[0;34m\u001b[0m\u001b[0;34m\u001b[0m\u001b[0m\n",
            "\u001b[0;32m/usr/local/lib/python3.10/dist-packages/matplotlib/axes/_base.py\u001b[0m in \u001b[0;36m__call__\u001b[0;34m(self, axes, data, *args, **kwargs)\u001b[0m\n\u001b[1;32m    301\u001b[0m                 \u001b[0mthis\u001b[0m \u001b[0;34m+=\u001b[0m \u001b[0margs\u001b[0m\u001b[0;34m[\u001b[0m\u001b[0;36m0\u001b[0m\u001b[0;34m]\u001b[0m\u001b[0;34m,\u001b[0m\u001b[0;34m\u001b[0m\u001b[0;34m\u001b[0m\u001b[0m\n\u001b[1;32m    302\u001b[0m                 \u001b[0margs\u001b[0m \u001b[0;34m=\u001b[0m \u001b[0margs\u001b[0m\u001b[0;34m[\u001b[0m\u001b[0;36m1\u001b[0m\u001b[0;34m:\u001b[0m\u001b[0;34m]\u001b[0m\u001b[0;34m\u001b[0m\u001b[0;34m\u001b[0m\u001b[0m\n\u001b[0;32m--> 303\u001b[0;31m             yield from self._plot_args(\n\u001b[0m\u001b[1;32m    304\u001b[0m                 axes, this, kwargs, ambiguous_fmt_datakey=ambiguous_fmt_datakey)\n\u001b[1;32m    305\u001b[0m \u001b[0;34m\u001b[0m\u001b[0m\n",
            "\u001b[0;32m/usr/local/lib/python3.10/dist-packages/matplotlib/axes/_base.py\u001b[0m in \u001b[0;36m_plot_args\u001b[0;34m(self, axes, tup, kwargs, return_kwargs, ambiguous_fmt_datakey)\u001b[0m\n\u001b[1;32m    489\u001b[0m             \u001b[0my\u001b[0m \u001b[0;34m=\u001b[0m \u001b[0m_check_1d\u001b[0m\u001b[0;34m(\u001b[0m\u001b[0mxy\u001b[0m\u001b[0;34m[\u001b[0m\u001b[0;36m1\u001b[0m\u001b[0;34m]\u001b[0m\u001b[0;34m)\u001b[0m\u001b[0;34m\u001b[0m\u001b[0;34m\u001b[0m\u001b[0m\n\u001b[1;32m    490\u001b[0m         \u001b[0;32melse\u001b[0m\u001b[0;34m:\u001b[0m\u001b[0;34m\u001b[0m\u001b[0;34m\u001b[0m\u001b[0m\n\u001b[0;32m--> 491\u001b[0;31m             \u001b[0mx\u001b[0m\u001b[0;34m,\u001b[0m \u001b[0my\u001b[0m \u001b[0;34m=\u001b[0m \u001b[0mindex_of\u001b[0m\u001b[0;34m(\u001b[0m\u001b[0mxy\u001b[0m\u001b[0;34m[\u001b[0m\u001b[0;34m-\u001b[0m\u001b[0;36m1\u001b[0m\u001b[0;34m]\u001b[0m\u001b[0;34m)\u001b[0m\u001b[0;34m\u001b[0m\u001b[0;34m\u001b[0m\u001b[0m\n\u001b[0m\u001b[1;32m    492\u001b[0m \u001b[0;34m\u001b[0m\u001b[0m\n\u001b[1;32m    493\u001b[0m         \u001b[0;32mif\u001b[0m \u001b[0maxes\u001b[0m\u001b[0;34m.\u001b[0m\u001b[0mxaxis\u001b[0m \u001b[0;32mis\u001b[0m \u001b[0;32mnot\u001b[0m \u001b[0;32mNone\u001b[0m\u001b[0;34m:\u001b[0m\u001b[0;34m\u001b[0m\u001b[0;34m\u001b[0m\u001b[0m\n",
            "\u001b[0;32m/usr/local/lib/python3.10/dist-packages/matplotlib/cbook.py\u001b[0m in \u001b[0;36mindex_of\u001b[0;34m(y)\u001b[0m\n\u001b[1;32m   1664\u001b[0m         \u001b[0;32mpass\u001b[0m\u001b[0;34m\u001b[0m\u001b[0;34m\u001b[0m\u001b[0m\n\u001b[1;32m   1665\u001b[0m     \u001b[0;32mtry\u001b[0m\u001b[0;34m:\u001b[0m\u001b[0;34m\u001b[0m\u001b[0;34m\u001b[0m\u001b[0m\n\u001b[0;32m-> 1666\u001b[0;31m         \u001b[0my\u001b[0m \u001b[0;34m=\u001b[0m \u001b[0m_check_1d\u001b[0m\u001b[0;34m(\u001b[0m\u001b[0my\u001b[0m\u001b[0;34m)\u001b[0m\u001b[0;34m\u001b[0m\u001b[0;34m\u001b[0m\u001b[0m\n\u001b[0m\u001b[1;32m   1667\u001b[0m     \u001b[0;32mexcept\u001b[0m \u001b[0;34m(\u001b[0m\u001b[0mVisibleDeprecationWarning\u001b[0m\u001b[0;34m,\u001b[0m \u001b[0mValueError\u001b[0m\u001b[0;34m)\u001b[0m\u001b[0;34m:\u001b[0m\u001b[0;34m\u001b[0m\u001b[0;34m\u001b[0m\u001b[0m\n\u001b[1;32m   1668\u001b[0m         \u001b[0;31m# NumPy 1.19 will warn on ragged input, and we can't actually use it.\u001b[0m\u001b[0;34m\u001b[0m\u001b[0;34m\u001b[0m\u001b[0m\n",
            "\u001b[0;32m/usr/local/lib/python3.10/dist-packages/matplotlib/cbook.py\u001b[0m in \u001b[0;36m_check_1d\u001b[0;34m(x)\u001b[0m\n\u001b[1;32m   1356\u001b[0m             \u001b[0;32mnot\u001b[0m \u001b[0mhasattr\u001b[0m\u001b[0;34m(\u001b[0m\u001b[0mx\u001b[0m\u001b[0;34m,\u001b[0m \u001b[0;34m'ndim'\u001b[0m\u001b[0;34m)\u001b[0m \u001b[0;32mor\u001b[0m\u001b[0;34m\u001b[0m\u001b[0;34m\u001b[0m\u001b[0m\n\u001b[1;32m   1357\u001b[0m             len(x.shape) < 1):\n\u001b[0;32m-> 1358\u001b[0;31m         \u001b[0;32mreturn\u001b[0m \u001b[0mnp\u001b[0m\u001b[0;34m.\u001b[0m\u001b[0matleast_1d\u001b[0m\u001b[0;34m(\u001b[0m\u001b[0mx\u001b[0m\u001b[0;34m)\u001b[0m\u001b[0;34m\u001b[0m\u001b[0;34m\u001b[0m\u001b[0m\n\u001b[0m\u001b[1;32m   1359\u001b[0m     \u001b[0;32melse\u001b[0m\u001b[0;34m:\u001b[0m\u001b[0;34m\u001b[0m\u001b[0;34m\u001b[0m\u001b[0m\n\u001b[1;32m   1360\u001b[0m         \u001b[0;32mreturn\u001b[0m \u001b[0mx\u001b[0m\u001b[0;34m\u001b[0m\u001b[0;34m\u001b[0m\u001b[0m\n",
            "\u001b[0;32m/usr/local/lib/python3.10/dist-packages/numpy/core/shape_base.py\u001b[0m in \u001b[0;36matleast_1d\u001b[0;34m(*arys)\u001b[0m\n\u001b[1;32m     63\u001b[0m     \u001b[0mres\u001b[0m \u001b[0;34m=\u001b[0m \u001b[0;34m[\u001b[0m\u001b[0;34m]\u001b[0m\u001b[0;34m\u001b[0m\u001b[0;34m\u001b[0m\u001b[0m\n\u001b[1;32m     64\u001b[0m     \u001b[0;32mfor\u001b[0m \u001b[0mary\u001b[0m \u001b[0;32min\u001b[0m \u001b[0marys\u001b[0m\u001b[0;34m:\u001b[0m\u001b[0;34m\u001b[0m\u001b[0;34m\u001b[0m\u001b[0m\n\u001b[0;32m---> 65\u001b[0;31m         \u001b[0mary\u001b[0m \u001b[0;34m=\u001b[0m \u001b[0masanyarray\u001b[0m\u001b[0;34m(\u001b[0m\u001b[0mary\u001b[0m\u001b[0;34m)\u001b[0m\u001b[0;34m\u001b[0m\u001b[0;34m\u001b[0m\u001b[0m\n\u001b[0m\u001b[1;32m     66\u001b[0m         \u001b[0;32mif\u001b[0m \u001b[0mary\u001b[0m\u001b[0;34m.\u001b[0m\u001b[0mndim\u001b[0m \u001b[0;34m==\u001b[0m \u001b[0;36m0\u001b[0m\u001b[0;34m:\u001b[0m\u001b[0;34m\u001b[0m\u001b[0;34m\u001b[0m\u001b[0m\n\u001b[1;32m     67\u001b[0m             \u001b[0mresult\u001b[0m \u001b[0;34m=\u001b[0m \u001b[0mary\u001b[0m\u001b[0;34m.\u001b[0m\u001b[0mreshape\u001b[0m\u001b[0;34m(\u001b[0m\u001b[0;36m1\u001b[0m\u001b[0;34m)\u001b[0m\u001b[0;34m\u001b[0m\u001b[0;34m\u001b[0m\u001b[0m\n",
            "\u001b[0;32m/usr/local/lib/python3.10/dist-packages/torch/_tensor.py\u001b[0m in \u001b[0;36m__array__\u001b[0;34m(self, dtype)\u001b[0m\n\u001b[1;32m   1147\u001b[0m             \u001b[0;32mreturn\u001b[0m \u001b[0mhandle_torch_function\u001b[0m\u001b[0;34m(\u001b[0m\u001b[0mTensor\u001b[0m\u001b[0;34m.\u001b[0m\u001b[0m__array__\u001b[0m\u001b[0;34m,\u001b[0m \u001b[0;34m(\u001b[0m\u001b[0mself\u001b[0m\u001b[0;34m,\u001b[0m\u001b[0;34m)\u001b[0m\u001b[0;34m,\u001b[0m \u001b[0mself\u001b[0m\u001b[0;34m,\u001b[0m \u001b[0mdtype\u001b[0m\u001b[0;34m=\u001b[0m\u001b[0mdtype\u001b[0m\u001b[0;34m)\u001b[0m\u001b[0;34m\u001b[0m\u001b[0;34m\u001b[0m\u001b[0m\n\u001b[1;32m   1148\u001b[0m         \u001b[0;32mif\u001b[0m \u001b[0mdtype\u001b[0m \u001b[0;32mis\u001b[0m \u001b[0;32mNone\u001b[0m\u001b[0;34m:\u001b[0m\u001b[0;34m\u001b[0m\u001b[0;34m\u001b[0m\u001b[0m\n\u001b[0;32m-> 1149\u001b[0;31m             \u001b[0;32mreturn\u001b[0m \u001b[0mself\u001b[0m\u001b[0;34m.\u001b[0m\u001b[0mnumpy\u001b[0m\u001b[0;34m(\u001b[0m\u001b[0;34m)\u001b[0m\u001b[0;34m\u001b[0m\u001b[0;34m\u001b[0m\u001b[0m\n\u001b[0m\u001b[1;32m   1150\u001b[0m         \u001b[0;32melse\u001b[0m\u001b[0;34m:\u001b[0m\u001b[0;34m\u001b[0m\u001b[0;34m\u001b[0m\u001b[0m\n\u001b[1;32m   1151\u001b[0m             \u001b[0;32mreturn\u001b[0m \u001b[0mself\u001b[0m\u001b[0;34m.\u001b[0m\u001b[0mnumpy\u001b[0m\u001b[0;34m(\u001b[0m\u001b[0;34m)\u001b[0m\u001b[0;34m.\u001b[0m\u001b[0mastype\u001b[0m\u001b[0;34m(\u001b[0m\u001b[0mdtype\u001b[0m\u001b[0;34m,\u001b[0m \u001b[0mcopy\u001b[0m\u001b[0;34m=\u001b[0m\u001b[0;32mFalse\u001b[0m\u001b[0;34m)\u001b[0m\u001b[0;34m\u001b[0m\u001b[0;34m\u001b[0m\u001b[0m\n",
            "\u001b[0;31mTypeError\u001b[0m: can't convert cuda:0 device type tensor to numpy. Use Tensor.cpu() to copy the tensor to host memory first."
          ]
        },
        {
          "output_type": "display_data",
          "data": {
            "text/plain": [
              "<Figure size 1200x1000 with 4 Axes>"
            ],
            "image/png": "[encoded data removed]"
          },
          "metadata": {}
        }
      ],
      "execution_count": 11
    },
    {
      "cell_type": "code",
      "source": [
        "val_target = []\n",
        "val_predict = []\n",
        "\n",
        "model.eval()\n",
        "with torch.no_grad():\n",
        "    for X_val, y_val in val_loader:\n",
        "        X_val = X_val.to(device)\n",
        "        y_val = y_val.to(device)\n",
        "        outputs = model(X_val)\n",
        "\n",
        "        val_predict.append(outputs.cpu())\n",
        "        val_target.append(y_val.cpu())\n",
        "\n",
        "    val_predict = torch.cat(val_predict)\n",
        "    val_target = torch.cat(val_target)\n",
        "    val_acc = (torch.argmax(val_predict, 1) == val_target).sum().item() / len(val_target)\n",
        "\n",
        "    print('Evaluation on val set:')\n",
        "    print(f'Accuracy: {val_acc}')"
      ],
      "metadata": {
        "trusted": true,
        "id": "fRnQaE20-nSi"
      },
      "outputs": [],
      "execution_count": null
    }
  ]
}